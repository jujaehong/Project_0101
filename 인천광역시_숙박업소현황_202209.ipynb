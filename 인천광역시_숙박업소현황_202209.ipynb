{
 "cells": [
  {
   "cell_type": "code",
   "execution_count": 20,
   "metadata": {},
   "outputs": [],
   "source": [
    "import pandas as pd"
   ]
  },
  {
   "cell_type": "code",
   "execution_count": 21,
   "metadata": {},
   "outputs": [],
   "source": [
    "df = pd.read_csv('인천광역시_숙박업소현황_202209.csv')"
   ]
  },
  {
   "cell_type": "code",
   "execution_count": 22,
   "metadata": {},
   "outputs": [
    {
     "data": {
      "text/html": [
       "<div>\n",
       "<style scoped>\n",
       "    .dataframe tbody tr th:only-of-type {\n",
       "        vertical-align: middle;\n",
       "    }\n",
       "\n",
       "    .dataframe tbody tr th {\n",
       "        vertical-align: top;\n",
       "    }\n",
       "\n",
       "    .dataframe thead th {\n",
       "        text-align: right;\n",
       "    }\n",
       "</style>\n",
       "<table border=\"1\" class=\"dataframe\">\n",
       "  <thead>\n",
       "    <tr style=\"text-align: right;\">\n",
       "      <th></th>\n",
       "      <th>구분</th>\n",
       "      <th>업체명</th>\n",
       "      <th>소재지</th>\n",
       "      <th>객실수</th>\n",
       "      <th>등록일</th>\n",
       "    </tr>\n",
       "  </thead>\n",
       "  <tbody>\n",
       "    <tr>\n",
       "      <th>0</th>\n",
       "      <td>관광펜션업</td>\n",
       "      <td>나무와 숲 석모도점</td>\n",
       "      <td>강화군 삼산면 어류정길 212번길 17</td>\n",
       "      <td>12.0</td>\n",
       "      <td>2017-12-06</td>\n",
       "    </tr>\n",
       "    <tr>\n",
       "      <th>1</th>\n",
       "      <td>관광펜션업</td>\n",
       "      <td>하미양 관광펜션</td>\n",
       "      <td>강화군 화도면 해안남로 1414-1</td>\n",
       "      <td>7.0</td>\n",
       "      <td>2017-12-06</td>\n",
       "    </tr>\n",
       "    <tr>\n",
       "      <th>2</th>\n",
       "      <td>관광펜션업</td>\n",
       "      <td>수랜드</td>\n",
       "      <td>강화군 화도면 해안남로1502번길 11</td>\n",
       "      <td>16.0</td>\n",
       "      <td>2017-12-06</td>\n",
       "    </tr>\n",
       "    <tr>\n",
       "      <th>3</th>\n",
       "      <td>관광펜션업</td>\n",
       "      <td>한가라지</td>\n",
       "      <td>강화군 삼산면 삼산남로 1011</td>\n",
       "      <td>18.0</td>\n",
       "      <td>2017-12-06</td>\n",
       "    </tr>\n",
       "    <tr>\n",
       "      <th>4</th>\n",
       "      <td>관광펜션업</td>\n",
       "      <td>관광펜션무무</td>\n",
       "      <td>강화군 화도면 해안남로 1066번길-12</td>\n",
       "      <td>5.0</td>\n",
       "      <td>2017-12-06</td>\n",
       "    </tr>\n",
       "    <tr>\n",
       "      <th>...</th>\n",
       "      <td>...</td>\n",
       "      <td>...</td>\n",
       "      <td>...</td>\n",
       "      <td>...</td>\n",
       "      <td>...</td>\n",
       "    </tr>\n",
       "    <tr>\n",
       "      <th>277</th>\n",
       "      <td>호스텔업</td>\n",
       "      <td>해처럼</td>\n",
       "      <td>중구 왕산로72</td>\n",
       "      <td>6.0</td>\n",
       "      <td>2021-10-29</td>\n",
       "    </tr>\n",
       "    <tr>\n",
       "      <th>278</th>\n",
       "      <td>호스텔업</td>\n",
       "      <td>꿈호스텔</td>\n",
       "      <td>중구 용유서로 380-18</td>\n",
       "      <td>5.0</td>\n",
       "      <td>2021-11-03</td>\n",
       "    </tr>\n",
       "    <tr>\n",
       "      <th>279</th>\n",
       "      <td>호스텔업</td>\n",
       "      <td>원더풀호스텔</td>\n",
       "      <td>중구 왕산로 68-16</td>\n",
       "      <td>5.0</td>\n",
       "      <td>2021-11-03</td>\n",
       "    </tr>\n",
       "    <tr>\n",
       "      <th>280</th>\n",
       "      <td>호스텔업</td>\n",
       "      <td>레드호스텔</td>\n",
       "      <td>중구 왕산로71</td>\n",
       "      <td>3.0</td>\n",
       "      <td>2022-08-24</td>\n",
       "    </tr>\n",
       "    <tr>\n",
       "      <th>281</th>\n",
       "      <td>휴양콘도미니엄업</td>\n",
       "      <td>TheWeek&amp;amp (더위크앤 리조트)</td>\n",
       "      <td>중구 용유서로 379(을왕동 773)</td>\n",
       "      <td>184.0</td>\n",
       "      <td>2017-12-06</td>\n",
       "    </tr>\n",
       "  </tbody>\n",
       "</table>\n",
       "<p>282 rows × 5 columns</p>\n",
       "</div>"
      ],
      "text/plain": [
       "           구분                     업체명                     소재지    객실수  \\\n",
       "0       관광펜션업              나무와 숲 석모도점   강화군 삼산면 어류정길 212번길 17   12.0   \n",
       "1       관광펜션업                하미양 관광펜션     강화군 화도면 해안남로 1414-1    7.0   \n",
       "2       관광펜션업                     수랜드   강화군 화도면 해안남로1502번길 11   16.0   \n",
       "3       관광펜션업                    한가라지       강화군 삼산면 삼산남로 1011   18.0   \n",
       "4       관광펜션업                  관광펜션무무  강화군 화도면 해안남로 1066번길-12    5.0   \n",
       "..        ...                     ...                     ...    ...   \n",
       "277      호스텔업                     해처럼                중구 왕산로72    6.0   \n",
       "278      호스텔업                    꿈호스텔          중구 용유서로 380-18    5.0   \n",
       "279      호스텔업                  원더풀호스텔            중구 왕산로 68-16    5.0   \n",
       "280      호스텔업                   레드호스텔                중구 왕산로71    3.0   \n",
       "281  휴양콘도미니엄업  TheWeek&amp (더위크앤 리조트)    중구 용유서로 379(을왕동 773)  184.0   \n",
       "\n",
       "            등록일  \n",
       "0    2017-12-06  \n",
       "1    2017-12-06  \n",
       "2    2017-12-06  \n",
       "3    2017-12-06  \n",
       "4    2017-12-06  \n",
       "..          ...  \n",
       "277  2021-10-29  \n",
       "278  2021-11-03  \n",
       "279  2021-11-03  \n",
       "280  2022-08-24  \n",
       "281  2017-12-06  \n",
       "\n",
       "[282 rows x 5 columns]"
      ]
     },
     "execution_count": 22,
     "metadata": {},
     "output_type": "execute_result"
    }
   ],
   "source": [
    "df"
   ]
  },
  {
   "cell_type": "code",
   "execution_count": 23,
   "metadata": {},
   "outputs": [
    {
     "data": {
      "text/plain": [
       "Index(['구분', '업체명', '소재지', '객실수', '등록일'], dtype='object')"
      ]
     },
     "execution_count": 23,
     "metadata": {},
     "output_type": "execute_result"
    }
   ],
   "source": [
    "df.columns"
   ]
  },
  {
   "cell_type": "code",
   "execution_count": 24,
   "metadata": {},
   "outputs": [
    {
     "data": {
      "text/plain": [
       "구분     0\n",
       "업체명    0\n",
       "소재지    0\n",
       "객실수    1\n",
       "등록일    0\n",
       "dtype: int64"
      ]
     },
     "execution_count": 24,
     "metadata": {},
     "output_type": "execute_result"
    }
   ],
   "source": [
    "df.isna().sum()"
   ]
  },
  {
   "cell_type": "code",
   "execution_count": 25,
   "metadata": {},
   "outputs": [],
   "source": [
    "df = df.dropna() "
   ]
  },
  {
   "cell_type": "code",
   "execution_count": 26,
   "metadata": {},
   "outputs": [],
   "source": [
    "df.reset_index(inplace=True, drop=True)"
   ]
  },
  {
   "cell_type": "code",
   "execution_count": 27,
   "metadata": {},
   "outputs": [
    {
     "data": {
      "text/plain": [
       "구분     0\n",
       "업체명    0\n",
       "소재지    0\n",
       "객실수    0\n",
       "등록일    0\n",
       "dtype: int64"
      ]
     },
     "execution_count": 27,
     "metadata": {},
     "output_type": "execute_result"
    }
   ],
   "source": [
    "df.isna().sum()"
   ]
  },
  {
   "cell_type": "code",
   "execution_count": 28,
   "metadata": {},
   "outputs": [
    {
     "data": {
      "text/html": [
       "<div>\n",
       "<style scoped>\n",
       "    .dataframe tbody tr th:only-of-type {\n",
       "        vertical-align: middle;\n",
       "    }\n",
       "\n",
       "    .dataframe tbody tr th {\n",
       "        vertical-align: top;\n",
       "    }\n",
       "\n",
       "    .dataframe thead th {\n",
       "        text-align: right;\n",
       "    }\n",
       "</style>\n",
       "<table border=\"1\" class=\"dataframe\">\n",
       "  <thead>\n",
       "    <tr style=\"text-align: right;\">\n",
       "      <th></th>\n",
       "      <th>구분</th>\n",
       "      <th>업체명</th>\n",
       "      <th>소재지</th>\n",
       "      <th>객실수</th>\n",
       "      <th>등록일</th>\n",
       "    </tr>\n",
       "  </thead>\n",
       "  <tbody>\n",
       "    <tr>\n",
       "      <th>0</th>\n",
       "      <td>관광펜션업</td>\n",
       "      <td>나무와 숲 석모도점</td>\n",
       "      <td>강화군 삼산면 어류정길 212번길 17</td>\n",
       "      <td>12.0</td>\n",
       "      <td>2017-12-06</td>\n",
       "    </tr>\n",
       "    <tr>\n",
       "      <th>1</th>\n",
       "      <td>관광펜션업</td>\n",
       "      <td>하미양 관광펜션</td>\n",
       "      <td>강화군 화도면 해안남로 1414-1</td>\n",
       "      <td>7.0</td>\n",
       "      <td>2017-12-06</td>\n",
       "    </tr>\n",
       "    <tr>\n",
       "      <th>2</th>\n",
       "      <td>관광펜션업</td>\n",
       "      <td>수랜드</td>\n",
       "      <td>강화군 화도면 해안남로1502번길 11</td>\n",
       "      <td>16.0</td>\n",
       "      <td>2017-12-06</td>\n",
       "    </tr>\n",
       "    <tr>\n",
       "      <th>3</th>\n",
       "      <td>관광펜션업</td>\n",
       "      <td>한가라지</td>\n",
       "      <td>강화군 삼산면 삼산남로 1011</td>\n",
       "      <td>18.0</td>\n",
       "      <td>2017-12-06</td>\n",
       "    </tr>\n",
       "    <tr>\n",
       "      <th>4</th>\n",
       "      <td>관광펜션업</td>\n",
       "      <td>관광펜션무무</td>\n",
       "      <td>강화군 화도면 해안남로 1066번길-12</td>\n",
       "      <td>5.0</td>\n",
       "      <td>2017-12-06</td>\n",
       "    </tr>\n",
       "    <tr>\n",
       "      <th>...</th>\n",
       "      <td>...</td>\n",
       "      <td>...</td>\n",
       "      <td>...</td>\n",
       "      <td>...</td>\n",
       "      <td>...</td>\n",
       "    </tr>\n",
       "    <tr>\n",
       "      <th>276</th>\n",
       "      <td>호스텔업</td>\n",
       "      <td>해처럼</td>\n",
       "      <td>중구 왕산로72</td>\n",
       "      <td>6.0</td>\n",
       "      <td>2021-10-29</td>\n",
       "    </tr>\n",
       "    <tr>\n",
       "      <th>277</th>\n",
       "      <td>호스텔업</td>\n",
       "      <td>꿈호스텔</td>\n",
       "      <td>중구 용유서로 380-18</td>\n",
       "      <td>5.0</td>\n",
       "      <td>2021-11-03</td>\n",
       "    </tr>\n",
       "    <tr>\n",
       "      <th>278</th>\n",
       "      <td>호스텔업</td>\n",
       "      <td>원더풀호스텔</td>\n",
       "      <td>중구 왕산로 68-16</td>\n",
       "      <td>5.0</td>\n",
       "      <td>2021-11-03</td>\n",
       "    </tr>\n",
       "    <tr>\n",
       "      <th>279</th>\n",
       "      <td>호스텔업</td>\n",
       "      <td>레드호스텔</td>\n",
       "      <td>중구 왕산로71</td>\n",
       "      <td>3.0</td>\n",
       "      <td>2022-08-24</td>\n",
       "    </tr>\n",
       "    <tr>\n",
       "      <th>280</th>\n",
       "      <td>휴양콘도미니엄업</td>\n",
       "      <td>TheWeek&amp;amp (더위크앤 리조트)</td>\n",
       "      <td>중구 용유서로 379(을왕동 773)</td>\n",
       "      <td>184.0</td>\n",
       "      <td>2017-12-06</td>\n",
       "    </tr>\n",
       "  </tbody>\n",
       "</table>\n",
       "<p>281 rows × 5 columns</p>\n",
       "</div>"
      ],
      "text/plain": [
       "           구분                     업체명                     소재지    객실수  \\\n",
       "0       관광펜션업              나무와 숲 석모도점   강화군 삼산면 어류정길 212번길 17   12.0   \n",
       "1       관광펜션업                하미양 관광펜션     강화군 화도면 해안남로 1414-1    7.0   \n",
       "2       관광펜션업                     수랜드   강화군 화도면 해안남로1502번길 11   16.0   \n",
       "3       관광펜션업                    한가라지       강화군 삼산면 삼산남로 1011   18.0   \n",
       "4       관광펜션업                  관광펜션무무  강화군 화도면 해안남로 1066번길-12    5.0   \n",
       "..        ...                     ...                     ...    ...   \n",
       "276      호스텔업                     해처럼                중구 왕산로72    6.0   \n",
       "277      호스텔업                    꿈호스텔          중구 용유서로 380-18    5.0   \n",
       "278      호스텔업                  원더풀호스텔            중구 왕산로 68-16    5.0   \n",
       "279      호스텔업                   레드호스텔                중구 왕산로71    3.0   \n",
       "280  휴양콘도미니엄업  TheWeek&amp (더위크앤 리조트)    중구 용유서로 379(을왕동 773)  184.0   \n",
       "\n",
       "            등록일  \n",
       "0    2017-12-06  \n",
       "1    2017-12-06  \n",
       "2    2017-12-06  \n",
       "3    2017-12-06  \n",
       "4    2017-12-06  \n",
       "..          ...  \n",
       "276  2021-10-29  \n",
       "277  2021-11-03  \n",
       "278  2021-11-03  \n",
       "279  2022-08-24  \n",
       "280  2017-12-06  \n",
       "\n",
       "[281 rows x 5 columns]"
      ]
     },
     "execution_count": 28,
     "metadata": {},
     "output_type": "execute_result"
    }
   ],
   "source": [
    "df"
   ]
  },
  {
   "cell_type": "code",
   "execution_count": 29,
   "metadata": {},
   "outputs": [],
   "source": [
    "X = df.loc[ : , : ]"
   ]
  },
  {
   "cell_type": "code",
   "execution_count": 30,
   "metadata": {},
   "outputs": [
    {
     "data": {
      "text/html": [
       "<div>\n",
       "<style scoped>\n",
       "    .dataframe tbody tr th:only-of-type {\n",
       "        vertical-align: middle;\n",
       "    }\n",
       "\n",
       "    .dataframe tbody tr th {\n",
       "        vertical-align: top;\n",
       "    }\n",
       "\n",
       "    .dataframe thead th {\n",
       "        text-align: right;\n",
       "    }\n",
       "</style>\n",
       "<table border=\"1\" class=\"dataframe\">\n",
       "  <thead>\n",
       "    <tr style=\"text-align: right;\">\n",
       "      <th></th>\n",
       "      <th>구분</th>\n",
       "      <th>업체명</th>\n",
       "      <th>소재지</th>\n",
       "      <th>객실수</th>\n",
       "      <th>등록일</th>\n",
       "    </tr>\n",
       "  </thead>\n",
       "  <tbody>\n",
       "    <tr>\n",
       "      <th>0</th>\n",
       "      <td>관광펜션업</td>\n",
       "      <td>나무와 숲 석모도점</td>\n",
       "      <td>강화군 삼산면 어류정길 212번길 17</td>\n",
       "      <td>12.0</td>\n",
       "      <td>2017-12-06</td>\n",
       "    </tr>\n",
       "    <tr>\n",
       "      <th>1</th>\n",
       "      <td>관광펜션업</td>\n",
       "      <td>하미양 관광펜션</td>\n",
       "      <td>강화군 화도면 해안남로 1414-1</td>\n",
       "      <td>7.0</td>\n",
       "      <td>2017-12-06</td>\n",
       "    </tr>\n",
       "    <tr>\n",
       "      <th>2</th>\n",
       "      <td>관광펜션업</td>\n",
       "      <td>수랜드</td>\n",
       "      <td>강화군 화도면 해안남로1502번길 11</td>\n",
       "      <td>16.0</td>\n",
       "      <td>2017-12-06</td>\n",
       "    </tr>\n",
       "    <tr>\n",
       "      <th>3</th>\n",
       "      <td>관광펜션업</td>\n",
       "      <td>한가라지</td>\n",
       "      <td>강화군 삼산면 삼산남로 1011</td>\n",
       "      <td>18.0</td>\n",
       "      <td>2017-12-06</td>\n",
       "    </tr>\n",
       "    <tr>\n",
       "      <th>4</th>\n",
       "      <td>관광펜션업</td>\n",
       "      <td>관광펜션무무</td>\n",
       "      <td>강화군 화도면 해안남로 1066번길-12</td>\n",
       "      <td>5.0</td>\n",
       "      <td>2017-12-06</td>\n",
       "    </tr>\n",
       "    <tr>\n",
       "      <th>...</th>\n",
       "      <td>...</td>\n",
       "      <td>...</td>\n",
       "      <td>...</td>\n",
       "      <td>...</td>\n",
       "      <td>...</td>\n",
       "    </tr>\n",
       "    <tr>\n",
       "      <th>276</th>\n",
       "      <td>호스텔업</td>\n",
       "      <td>해처럼</td>\n",
       "      <td>중구 왕산로72</td>\n",
       "      <td>6.0</td>\n",
       "      <td>2021-10-29</td>\n",
       "    </tr>\n",
       "    <tr>\n",
       "      <th>277</th>\n",
       "      <td>호스텔업</td>\n",
       "      <td>꿈호스텔</td>\n",
       "      <td>중구 용유서로 380-18</td>\n",
       "      <td>5.0</td>\n",
       "      <td>2021-11-03</td>\n",
       "    </tr>\n",
       "    <tr>\n",
       "      <th>278</th>\n",
       "      <td>호스텔업</td>\n",
       "      <td>원더풀호스텔</td>\n",
       "      <td>중구 왕산로 68-16</td>\n",
       "      <td>5.0</td>\n",
       "      <td>2021-11-03</td>\n",
       "    </tr>\n",
       "    <tr>\n",
       "      <th>279</th>\n",
       "      <td>호스텔업</td>\n",
       "      <td>레드호스텔</td>\n",
       "      <td>중구 왕산로71</td>\n",
       "      <td>3.0</td>\n",
       "      <td>2022-08-24</td>\n",
       "    </tr>\n",
       "    <tr>\n",
       "      <th>280</th>\n",
       "      <td>휴양콘도미니엄업</td>\n",
       "      <td>TheWeek&amp;amp (더위크앤 리조트)</td>\n",
       "      <td>중구 용유서로 379(을왕동 773)</td>\n",
       "      <td>184.0</td>\n",
       "      <td>2017-12-06</td>\n",
       "    </tr>\n",
       "  </tbody>\n",
       "</table>\n",
       "<p>281 rows × 5 columns</p>\n",
       "</div>"
      ],
      "text/plain": [
       "           구분                     업체명                     소재지    객실수  \\\n",
       "0       관광펜션업              나무와 숲 석모도점   강화군 삼산면 어류정길 212번길 17   12.0   \n",
       "1       관광펜션업                하미양 관광펜션     강화군 화도면 해안남로 1414-1    7.0   \n",
       "2       관광펜션업                     수랜드   강화군 화도면 해안남로1502번길 11   16.0   \n",
       "3       관광펜션업                    한가라지       강화군 삼산면 삼산남로 1011   18.0   \n",
       "4       관광펜션업                  관광펜션무무  강화군 화도면 해안남로 1066번길-12    5.0   \n",
       "..        ...                     ...                     ...    ...   \n",
       "276      호스텔업                     해처럼                중구 왕산로72    6.0   \n",
       "277      호스텔업                    꿈호스텔          중구 용유서로 380-18    5.0   \n",
       "278      호스텔업                  원더풀호스텔            중구 왕산로 68-16    5.0   \n",
       "279      호스텔업                   레드호스텔                중구 왕산로71    3.0   \n",
       "280  휴양콘도미니엄업  TheWeek&amp (더위크앤 리조트)    중구 용유서로 379(을왕동 773)  184.0   \n",
       "\n",
       "            등록일  \n",
       "0    2017-12-06  \n",
       "1    2017-12-06  \n",
       "2    2017-12-06  \n",
       "3    2017-12-06  \n",
       "4    2017-12-06  \n",
       "..          ...  \n",
       "276  2021-10-29  \n",
       "277  2021-11-03  \n",
       "278  2021-11-03  \n",
       "279  2022-08-24  \n",
       "280  2017-12-06  \n",
       "\n",
       "[281 rows x 5 columns]"
      ]
     },
     "execution_count": 30,
     "metadata": {},
     "output_type": "execute_result"
    }
   ],
   "source": [
    "X"
   ]
  },
  {
   "cell_type": "code",
   "execution_count": 31,
   "metadata": {},
   "outputs": [
    {
     "data": {
      "text/plain": [
       "Index(['구분', '업체명', '소재지', '객실수', '등록일'], dtype='object')"
      ]
     },
     "execution_count": 31,
     "metadata": {},
     "output_type": "execute_result"
    }
   ],
   "source": [
    "X.columns"
   ]
  },
  {
   "cell_type": "code",
   "execution_count": 32,
   "metadata": {},
   "outputs": [
    {
     "data": {
      "text/plain": [
       "구분      object\n",
       "업체명     object\n",
       "소재지     object\n",
       "객실수    float64\n",
       "등록일     object\n",
       "dtype: object"
      ]
     },
     "execution_count": 32,
     "metadata": {},
     "output_type": "execute_result"
    }
   ],
   "source": [
    "X.dtypes"
   ]
  },
  {
   "cell_type": "code",
   "execution_count": 33,
   "metadata": {},
   "outputs": [
    {
     "data": {
      "text/plain": [
       "(281, 5)"
      ]
     },
     "execution_count": 33,
     "metadata": {},
     "output_type": "execute_result"
    }
   ],
   "source": [
    "X.shape"
   ]
  },
  {
   "cell_type": "code",
   "execution_count": 34,
   "metadata": {},
   "outputs": [
    {
     "name": "stdout",
     "output_type": "stream",
     "text": [
      "숭의동 구에 속한 주소들:\n",
      "인천광역시 미추홀구 숭의동 293번지 19호 1층\n",
      "\n",
      "용현동 구에 속한 주소들:\n",
      "인천광역시 미추홀구 용현동 621번지 68호\n",
      "인천광역시 미추홀구 용현동 146번지 275호\n",
      "\n",
      "주안동 구에 속한 주소들:\n",
      "인천광역시 미추홀구 주안동 241번지 9호\n",
      "인천광역시 미추홀구 주안동 1464번지 22호\n",
      "\n"
     ]
    }
   ],
   "source": [
    "addresses = [\n",
    "    \"인천광역시 미추홀구 숭의동 293번지 19호 1층\",\n",
    "    \"인천광역시 미추홀구 용현동 621번지 68호\",\n",
    "    \"인천광역시 미추홀구 주안동 241번지 9호\",\n",
    "    \"인천광역시 미추홀구 용현동 146번지 275호\",\n",
    "    \"인천광역시 미추홀구 주안동 1464번지 22호\"\n",
    "]\n",
    "\n",
    "districts = {}\n",
    "\n",
    "for address in addresses:\n",
    "    district = address.split()[2]  # 동 이름 추출\n",
    "    if district not in districts:\n",
    "        districts[district] = []\n",
    "    districts[district].append(address)\n",
    "\n",
    "for district, addresses in districts.items():\n",
    "    print(f\"{district} 구에 속한 주소들:\")\n",
    "    for address in addresses:\n",
    "        print(address)\n",
    "    print()\n"
   ]
  }
 ],
 "metadata": {
  "kernelspec": {
   "display_name": "app_dash",
   "language": "python",
   "name": "python3"
  },
  "language_info": {
   "codemirror_mode": {
    "name": "ipython",
    "version": 3
   },
   "file_extension": ".py",
   "mimetype": "text/x-python",
   "name": "python",
   "nbconvert_exporter": "python",
   "pygments_lexer": "ipython3",
   "version": "3.9.16"
  },
  "orig_nbformat": 4
 },
 "nbformat": 4,
 "nbformat_minor": 2
}
